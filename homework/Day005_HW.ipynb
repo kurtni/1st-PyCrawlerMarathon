{
 "cells": [
  {
   "cell_type": "markdown",
   "metadata": {},
   "source": [
    "# API 資料串接 - 以 Dcard API 實作範例\n",
    "\n",
    "* 了解 Dcard API 使用方式與回傳內容\n",
    "* 撰寫程式存取 API 且解析 JSON 格式資料\n"
   ]
  },
  {
   "cell_type": "markdown",
   "metadata": {},
   "source": [
    "## 作業目標\n",
    "\n",
    "* 請利用 API: https://www.dcard.tw/_api/forums/pet/posts?popular=true 回答下列問題：\n",
    "\n",
    "1. 這個 API 一次會回傳幾筆資料？每一筆資料包含哪些欄位？\n",
    "2. 取出每一筆資料的「標題」、「貼文時間」、「留言人數」、「按讚人數」\n",
    "3. 計算熱門/非熱門文章的「平均留言人數」與「平均按讚人數」"
   ]
  },
  {
   "cell_type": "code",
   "execution_count": 23,
   "metadata": {},
   "outputs": [
    {
     "name": "stdout",
     "output_type": "stream",
     "text": [
      "<class 'str'>\n",
      "API 一次會回傳 30 幾筆資料\n",
      "欄位： dict_keys(['id', 'title', 'excerpt', 'anonymousSchool', 'anonymousDepartment', 'pinned', 'forumId', 'replyId', 'createdAt', 'updatedAt', 'commentCount', 'likeCount', 'withNickname', 'tags', 'topics', 'meta', 'forumName', 'forumAlias', 'gender', 'school', 'department', 'replyTitle', 'mediaMeta', 'reactions', 'hidden', 'customStyle', 'isSuspiciousAccount', 'layout', 'withImages', 'withVideos', 'media', 'reportReasonText', 'postAvatar'])\n"
     ]
    }
   ],
   "source": [
    "# 1. 這個 API 一次會回傳幾筆資料？每一筆資料包含哪些欄位？\n",
    "import requests\n",
    "\n",
    "rdata = requests.get('https://www.dcard.tw/_api/forums/pet/posts?popular=true')\n",
    "print(type(rdata.text))\n",
    "\n",
    "import json\n",
    "jreturndata = json.loads(rdata.text)\n",
    "print(\"API 一次會回傳\",len(jreturndata),\"幾筆資料\")\n",
    "print(\"欄位：\",jreturndata[0].keys())"
   ]
  },
  {
   "cell_type": "code",
   "execution_count": 25,
   "metadata": {},
   "outputs": [
    {
     "name": "stdout",
     "output_type": "stream",
     "text": [
      "標題 貼文時間 留言人數 按讚人數\n",
      "1 . 同學你的貓貓 2019-12-02T12:11:28.555Z 25 483\n",
      "2 . 散步好夥伴🐶漆黑寒冷的夜晚也找得到便便💩 2019-12-02T02:51:47.393Z 0 304\n",
      "3 . 我到底養了什麼貓....（...微西斯） 2019-12-02T11:45:50.709Z 16 253\n",
      "4 . 餵養的浪貓得了乳腺瘤 2019-12-02T05:29:49.540Z 12 192\n",
      "5 . 有這麼不爽嗎(･ัω･ั) 2019-12-02T08:31:17.626Z 9 160\n",
      "6 . 我家的老阿公 2019-12-02T06:22:36.958Z 9 83\n",
      "7 . 覺得認同 2019-12-02T16:16:39.331Z 7 74\n",
      "8 . 我發誓牠們的食物是一樣的…… 2019-12-02T15:47:50.672Z 3 60\n",
      "9 . 我在日本養了一隻貓(圖多 2019-12-02T02:38:35.799Z 2 57\n",
      "10 . 送養 2019-12-02T02:36:37.309Z 5 45\n",
      "11 . #急#刺蝟 2019-12-02T05:06:34.886Z 10 40\n",
      "12 . 你怎麼站起來了！ 2019-12-02T14:42:42.738Z 5 38\n",
      "13 . 是我太髒嗎? 2019-12-02T09:16:23.658Z 3 32\n",
      "14 . 你有看過這隻狗嗎？ 2019-12-01T20:33:16.869Z 3 25\n",
      "15 . 直接抓到犯罪證據 2019-12-02T14:43:24.475Z 0 23\n",
      "16 . 若要抱貓，必先成貓 2019-12-02T05:44:06.710Z 1 23\n",
      "17 . 我有一隻可愛的來福 2019-12-02T14:32:37.716Z 7 22\n",
      "18 . 我家曠世怨婦🐱 2019-12-02T06:56:01.120Z 0 20\n",
      "19 . 同學你的貓 2019-12-02T17:33:55.812Z 5 19\n",
      "20 . 中台小貓咪 2019-12-02T15:28:25.729Z 1 17\n",
      "21 . #圖多 萬用的奴才肩膀 2019-12-02T10:49:21.771Z 0 16\n",
      "22 . 床要被你們壓壞啦啊啊啊 2019-12-02T13:09:49.509Z 3 15\n",
      "23 . 比特BB的心酸 2019-12-03T03:00:15.230Z 3 14\n",
      "24 . 淘寶訂可爾必斯送來...? 2019-12-02T08:32:40.657Z 3 14\n",
      "25 . 養了一隻便便製造機 2019-12-02T19:36:06.064Z 6 13\n",
      "26 . 曬個萌樣來雪恥💪 2019-12-02T08:01:07.477Z 1 13\n",
      "27 . #圖 板橋貓咪走失（已找到） 2019-12-02T03:50:17.266Z 3 13\n",
      "28 . 品種 2019-12-02T00:30:48.852Z 4 10\n",
      "29 . 表情很浮誇喔 2019-12-02T15:36:01.429Z 0 9\n",
      "30 . 來蓋吉娃娃樓 2019-12-02T13:09:02.202Z 14 7\n"
     ]
    }
   ],
   "source": [
    "# 2. 取出每一筆資料的「標題」、「貼文時間」、「留言人數」、「按讚人數」\n",
    "datacount = 0\n",
    "print('標題','貼文時間','留言人數','按讚人數')\n",
    "for jdata in jreturndata:\n",
    "    datacount += 1\n",
    "    print(datacount,'.',jdata['title'],jdata['createdAt'],jdata['commentCount'],jdata['likeCount'])"
   ]
  },
  {
   "cell_type": "code",
   "execution_count": 33,
   "metadata": {},
   "outputs": [
    {
     "name": "stdout",
     "output_type": "stream",
     "text": [
      "熱門平均留言人數: 5.633333333333334\n",
      "熱門平均按讚人數: 95.33333333333333\n",
      "非熱門平均留言人數: 2.8\n",
      "非熱門平均按讚人數: 11.066666666666666\n"
     ]
    }
   ],
   "source": [
    "# 3. 計算熱門/非熱門文章的「平均留言人數」與「平均按讚人數」\n",
    "rdata = requests.get('https://www.dcard.tw/_api/forums/pet/posts?popular=true')\n",
    "jreturndata = json.loads(rdata.text)\n",
    "\n",
    "\n",
    "rdata = requests.get('https://www.dcard.tw/_api/forums/pet/posts?popular=false')\n",
    "nonjreturndata = json.loads(rdata.text)\n",
    "\n",
    "import statistics\n",
    "\n",
    "scomment = []\n",
    "slike= []\n",
    "\n",
    "for d in jreturndata:\n",
    "    scomment.append(d[\"commentCount\"])\n",
    "    slike.append(d[\"likeCount\"])\n",
    "    \n",
    "print(\"熱門平均留言人數:\", statistics.mean(scomment))\n",
    "print(\"熱門平均按讚人數:\", statistics.mean(slike))\n",
    "\n",
    "scomment.clear()\n",
    "slike.clear()\n",
    "\n",
    "for d in nonjreturndata:\n",
    "    scomment.append(d[\"commentCount\"])\n",
    "    slike.append(d[\"likeCount\"])\n",
    "    \n",
    "print(\"非熱門平均留言人數:\", statistics.mean(scomment))\n",
    "print(\"非熱門平均按讚人數:\", statistics.mean(slike))"
   ]
  },
  {
   "cell_type": "code",
   "execution_count": null,
   "metadata": {},
   "outputs": [],
   "source": []
  },
  {
   "cell_type": "code",
   "execution_count": null,
   "metadata": {},
   "outputs": [],
   "source": []
  }
 ],
 "metadata": {
  "kernelspec": {
   "display_name": "Python 3",
   "language": "python",
   "name": "python3"
  },
  "language_info": {
   "codemirror_mode": {
    "name": "ipython",
    "version": 3
   },
   "file_extension": ".py",
   "mimetype": "text/x-python",
   "name": "python",
   "nbconvert_exporter": "python",
   "pygments_lexer": "ipython3",
   "version": "3.7.4"
  }
 },
 "nbformat": 4,
 "nbformat_minor": 2
}
