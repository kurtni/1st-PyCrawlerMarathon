{
 "cells": [
  {
   "cell_type": "markdown",
   "metadata": {},
   "source": [
    "# Python 下載XML檔案與解析\n",
    "\n",
    "\n",
    "* 了解 xml 檔案格式與內容\n",
    "* 能夠利用套件存取 xml 格式的檔案\n"
   ]
  },
  {
   "cell_type": "markdown",
   "metadata": {},
   "source": [
    "## 作業目標\n",
    "\n",
    "* 比較一下範例檔案中的「File I/O」與「xmltodict」讀出來的內容有什麼差異\n",
    "\n",
    "* 根據範例檔案的結果：\n",
    "    1. 請問高雄市有多少地區有溫度資料？\n",
    "    2. 請取出每一個地區所記錄的第一個時間點跟溫度\n",
    "    3. 請取出第一個地區所記錄的每一個時間點跟溫度"
   ]
  },
  {
   "cell_type": "markdown",
   "metadata": {},
   "source": [
    "### 比較一下範例檔案中的「File I/O」與「xmltodict」讀出來的內容有什麼差異\n"
   ]
  },
  {
   "cell_type": "markdown",
   "metadata": {},
   "source": [
    "#### File I/O 是完整的檔案內容讀取，xmltodict是將資料用dict的方式組裝，可以針對需要的資料做調用即可"
   ]
  },
  {
   "cell_type": "markdown",
   "metadata": {},
   "source": [
    "### 根據範例檔案的結果：\n",
    "\n",
    "1. 請問高雄市有多少地區有溫度資料？\n",
    "2. 請取出每一個地區所記錄的第一個時間點跟溫度\n",
    "3. 請取出第一個地區所記錄的每一個時間點跟溫度"
   ]
  },
  {
   "cell_type": "code",
   "execution_count": 13,
   "metadata": {},
   "outputs": [
    {
     "name": "stdout",
     "output_type": "stream",
     "text": [
      "鹽埕區\n",
      "鼓山區\n",
      "左營區\n",
      "楠梓區\n",
      "三民區\n",
      "新興區\n",
      "前金區\n",
      "苓雅區\n",
      "前鎮區\n",
      "旗津區\n",
      "小港區\n",
      "鳳山區\n",
      "林園區\n",
      "大寮區\n",
      "大樹區\n",
      "大社區\n",
      "仁武區\n",
      "鳥松區\n",
      "岡山區\n",
      "橋頭區\n",
      "燕巢區\n",
      "田寮區\n",
      "阿蓮區\n",
      "路竹區\n",
      "湖內區\n",
      "茄萣區\n",
      "永安區\n",
      "彌陀區\n",
      "梓官區\n",
      "旗山區\n",
      "美濃區\n",
      "六龜區\n",
      "甲仙區\n",
      "杉林區\n",
      "內門區\n",
      "茂林區\n",
      "桃源區\n",
      "那瑪夏區\n",
      "高雄總共有 38 地區有溫度資料\n"
     ]
    }
   ],
   "source": [
    "# 1. 請問高雄市有多少地區有溫度資料？\n",
    "# 讀檔案\n",
    "import xmltodict\n",
    "\n",
    "with open('./Data/64_72hr_CH.xml', encoding='utf-8') as fd:\n",
    "    datadic = dict(xmltodict.parse(fd.read())) \n",
    "    \n",
    "    locationNames = datadic['cwbopendata']['dataset']['locations']['location']\n",
    "# 用迴圈存取我們的資訊\n",
    "locationcnt=0\n",
    "for location in locationNames:\n",
    "    locationcnt += 1\n",
    "    print (location['locationName'])\n",
    "print ('高雄總共有',locationcnt,'地區有溫度資料')"
   ]
  },
  {
   "cell_type": "code",
   "execution_count": 14,
   "metadata": {},
   "outputs": [
    {
     "name": "stdout",
     "output_type": "stream",
     "text": [
      "鹽埕區 2019-11-27T06:00:00+08:00 21\n",
      "鼓山區 2019-11-27T06:00:00+08:00 21\n",
      "左營區 2019-11-27T06:00:00+08:00 21\n",
      "楠梓區 2019-11-27T06:00:00+08:00 20\n",
      "三民區 2019-11-27T06:00:00+08:00 21\n",
      "新興區 2019-11-27T06:00:00+08:00 22\n",
      "前金區 2019-11-27T06:00:00+08:00 21\n",
      "苓雅區 2019-11-27T06:00:00+08:00 22\n",
      "前鎮區 2019-11-27T06:00:00+08:00 22\n",
      "旗津區 2019-11-27T06:00:00+08:00 21\n",
      "小港區 2019-11-27T06:00:00+08:00 21\n",
      "鳳山區 2019-11-27T06:00:00+08:00 20\n",
      "林園區 2019-11-27T06:00:00+08:00 21\n",
      "大寮區 2019-11-27T06:00:00+08:00 21\n",
      "大樹區 2019-11-27T06:00:00+08:00 19\n",
      "大社區 2019-11-27T06:00:00+08:00 20\n",
      "仁武區 2019-11-27T06:00:00+08:00 20\n",
      "鳥松區 2019-11-27T06:00:00+08:00 20\n",
      "岡山區 2019-11-27T06:00:00+08:00 20\n",
      "橋頭區 2019-11-27T06:00:00+08:00 20\n",
      "燕巢區 2019-11-27T06:00:00+08:00 20\n",
      "田寮區 2019-11-27T06:00:00+08:00 18\n",
      "阿蓮區 2019-11-27T06:00:00+08:00 18\n",
      "路竹區 2019-11-27T06:00:00+08:00 20\n",
      "湖內區 2019-11-27T06:00:00+08:00 20\n",
      "茄萣區 2019-11-27T06:00:00+08:00 20\n",
      "永安區 2019-11-27T06:00:00+08:00 20\n",
      "彌陀區 2019-11-27T06:00:00+08:00 20\n",
      "梓官區 2019-11-27T06:00:00+08:00 20\n",
      "旗山區 2019-11-27T06:00:00+08:00 19\n",
      "美濃區 2019-11-27T06:00:00+08:00 19\n",
      "六龜區 2019-11-27T06:00:00+08:00 19\n",
      "甲仙區 2019-11-27T06:00:00+08:00 17\n",
      "杉林區 2019-11-27T06:00:00+08:00 19\n",
      "內門區 2019-11-27T06:00:00+08:00 18\n",
      "茂林區 2019-11-27T06:00:00+08:00 18\n",
      "桃源區 2019-11-27T06:00:00+08:00 16\n",
      "那瑪夏區 2019-11-27T06:00:00+08:00 16\n"
     ]
    }
   ],
   "source": [
    "# 2. 請取出每一個地區所記錄的第一個時間點跟溫度\n",
    "\n",
    "# 讀檔案\n",
    "import xmltodict\n",
    "\n",
    "with open('./Data/64_72hr_CH.xml', encoding='utf-8') as fd:\n",
    "    datadic = dict(xmltodict.parse(fd.read())) \n",
    "    \n",
    "    locationNames = datadic['cwbopendata']['dataset']['locations']['location']\n",
    "# 用迴圈存取我們的資訊\n",
    "for location in locationNames:\n",
    "    weatherElement = location['weatherElement'][0]['time'][0]\n",
    "    print(location['locationName'],weatherElement['dataTime'],weatherElement['elementValue']['value'])\n"
   ]
  },
  {
   "cell_type": "code",
   "execution_count": 15,
   "metadata": {},
   "outputs": [
    {
     "name": "stdout",
     "output_type": "stream",
     "text": [
      "2019-11-27T06:00:00+08:00 21\n",
      "2019-11-27T09:00:00+08:00 24\n",
      "2019-11-27T12:00:00+08:00 28\n",
      "2019-11-27T15:00:00+08:00 28\n",
      "2019-11-27T18:00:00+08:00 25\n",
      "2019-11-27T21:00:00+08:00 23\n",
      "2019-11-28T00:00:00+08:00 22\n",
      "2019-11-28T03:00:00+08:00 21\n",
      "2019-11-28T06:00:00+08:00 20\n",
      "2019-11-28T09:00:00+08:00 23\n",
      "2019-11-28T12:00:00+08:00 26\n",
      "2019-11-28T15:00:00+08:00 26\n",
      "2019-11-28T18:00:00+08:00 24\n",
      "2019-11-28T21:00:00+08:00 22\n",
      "2019-11-29T00:00:00+08:00 21\n",
      "2019-11-29T03:00:00+08:00 20\n",
      "2019-11-29T06:00:00+08:00 19\n",
      "2019-11-29T09:00:00+08:00 21\n",
      "2019-11-29T12:00:00+08:00 24\n",
      "2019-11-29T15:00:00+08:00 24\n",
      "2019-11-29T18:00:00+08:00 23\n",
      "2019-11-29T21:00:00+08:00 22\n",
      "2019-11-30T00:00:00+08:00 21\n",
      "2019-11-30T03:00:00+08:00 20\n"
     ]
    }
   ],
   "source": [
    "# 3. 請取出第一個地區所記錄的每一個時間點跟溫度\n",
    "# 讀檔案\n",
    "import xmltodict\n",
    "\n",
    "with open('./Data/64_72hr_CH.xml', encoding='utf-8') as fd:\n",
    "    datadic = dict(xmltodict.parse(fd.read())) \n",
    "    \n",
    "    locationNames = datadic['cwbopendata']['dataset']['locations']['location'][0]['weatherElement'][0]['time']\n",
    "# 用迴圈存取我們的資訊\n",
    "for location in locationNames:\n",
    "    print(location['dataTime'],location['elementValue']['value'])\n"
   ]
  },
  {
   "cell_type": "code",
   "execution_count": null,
   "metadata": {},
   "outputs": [],
   "source": []
  }
 ],
 "metadata": {
  "kernelspec": {
   "display_name": "Python 3",
   "language": "python",
   "name": "python3"
  },
  "language_info": {
   "codemirror_mode": {
    "name": "ipython",
    "version": 3
   },
   "file_extension": ".py",
   "mimetype": "text/x-python",
   "name": "python",
   "nbconvert_exporter": "python",
   "pygments_lexer": "ipython3",
   "version": "3.7.4"
  }
 },
 "nbformat": 4,
 "nbformat_minor": 2
}
