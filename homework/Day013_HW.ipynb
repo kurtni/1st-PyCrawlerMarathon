{
 "cells": [
  {
   "cell_type": "markdown",
   "metadata": {},
   "source": [
    "# PTT 網路爬蟲實作練習\n",
    "\n",
    "\n",
    "* 能夠利用 Request + BeatifulSour 撰寫爬蟲，並存放到合適的資料結構\n"
   ]
  },
  {
   "cell_type": "markdown",
   "metadata": {},
   "source": [
    "## 作業目標\n",
    "\n",
    "根據範例 ，完成以下問題：\n",
    "\n",
    "* ① 印出最新文章的「作者」「標題」「時間」\n",
    "* ② 印出第一頁所有文章的「作者」「標題」「時間」\n"
   ]
  },
  {
   "cell_type": "markdown",
   "metadata": {},
   "source": [
    "### ① 印出最新文章的「作者」「標題」「時間」"
   ]
  },
  {
   "cell_type": "code",
   "execution_count": 33,
   "metadata": {},
   "outputs": [
    {
     "name": "stdout",
     "output_type": "stream",
     "text": [
      "作者: JaredDudley (Jared Dudley)  標題: [外絮] LBJ:Dudley跟你們說過他會為我們挺身而出  時間: Fri Dec 13 12:24:53 2019\n"
     ]
    }
   ],
   "source": [
    "import requests\n",
    "from bs4 import BeautifulSoup\n",
    "\n",
    "url = 'https://www.ptt.cc/bbs/NBA/index.html'\n",
    "r = requests.get(url)\n",
    "\n",
    "soup = BeautifulSoup(r.text, \"html5lib\")\n",
    "\n",
    "for d in soup.find_all(class_=\"title\"):\n",
    "    #print(d.text.replace('\\n','').replace('\\t',''))\n",
    "    #print(d.find('a')['href'])\n",
    "    \n",
    "    try:\n",
    "        r = BeautifulSoup(requests.get('https://www.ptt.cc'+d.find('a')['href']).text, \"html5lib\")\n",
    "        d = r.find_all(class_='article-meta-value')\n",
    "        print('作者: ' + d[0].text,' 標題: '+ d[2].text,' 時間: '+ d[3].text )\n",
    "        break\n",
    "    except:\n",
    "        continue"
   ]
  },
  {
   "cell_type": "markdown",
   "metadata": {},
   "source": [
    "### ② 印出第一頁所有文章的「作者」「標題」「時間」"
   ]
  },
  {
   "cell_type": "code",
   "execution_count": 34,
   "metadata": {},
   "outputs": [
    {
     "name": "stdout",
     "output_type": "stream",
     "text": [
      "作者: JaredDudley (Jared Dudley)  標題: [外絮] LBJ:Dudley跟你們說過他會為我們挺身而出  時間: Fri Dec 13 12:24:53 2019\n",
      "作者: namie810303 (NBA)  標題: [公告] 水桶  時間: Fri Dec 13 12:37:56 2019\n",
      "作者: TysonRoss (泰山螺絲)  標題: [情報] 21歲前30+大三元 10次Doncic占7次  時間: Fri Dec 13 12:45:12 2019\n",
      "作者: winnabe (請你不要迷戀哥)  標題: [討論] 鵜鶘到底怎麼了?  時間: Fri Dec 13 12:53:42 2019\n",
      "作者: qtbang (qttt)  標題: [討論] J.Embiid 扛得住巔峰俠客嗎 ?  時間: Fri Dec 13 13:49:53 2019\n",
      "作者: LinBaoYan (負酬者聯盟)  標題: [新聞] 成為更好版本的自己 哈沃德肺腑之言獲隊友力挺  時間: Fri Dec 13 14:08:19 2019\n",
      "作者: la1aco (lalaco)  標題: [情報]詹姆斯:我們是如此幸運能在夏天簽下Howard  時間: Fri Dec 13 14:08:55 2019\n",
      "作者: pneumo (超☆冒險蓋)  標題: [討論] 阿拓Whiteside神奇的一球  時間: Fri Dec 13 14:33:05 2019\n",
      "作者: asdf1256 (guest)  標題: [新聞] 遭質疑詐傷 籃網總管：不會逼厄文復出  時間: Fri Dec 13 15:06:18 2019\n",
      "作者: Vedan (味丹)  標題: [公告] 樂透取消及未來不再開啟樂透  時間: Mon Jun 24 15:08:02 2019\n",
      "作者: qazwsx879345 (Rajon Rondo)  標題: [公告] 版主上任相關事項  時間: Fri Oct 25 10:44:03 2019\n",
      "作者: JerroLi (銀色小刀)  標題: [情報] SEASON Schedule 賽程 December 19–20  時間: Fri Nov 29 00:46:01 2019\n",
      "作者: dragon803 (好想去露營啊~)  標題: [公告]是否禁止basketball top 5文章投票開始  時間: Sun Dec  8 23:55:00 2019\n"
     ]
    }
   ],
   "source": [
    "for d in soup.find_all(class_=\"title\"):\n",
    "    #print(d.text.replace('\\n','').replace('\\t',''))\n",
    "    #print(d.find('a')['href'])\n",
    "    \n",
    "    try:\n",
    "        r = BeautifulSoup(requests.get('https://www.ptt.cc'+d.find('a')['href']).text, \"html5lib\")\n",
    "        d = r.find_all(class_='article-meta-value')\n",
    "        print('作者: ' + d[0].text,' 標題: '+ d[2].text,' 時間: '+ d[3].text )\n",
    "    except:\n",
    "        continue"
   ]
  },
  {
   "cell_type": "markdown",
   "metadata": {},
   "source": [
    "### ③ 試著爬爬看其他版的文章"
   ]
  },
  {
   "cell_type": "code",
   "execution_count": 35,
   "metadata": {},
   "outputs": [
    {
     "name": "stdout",
     "output_type": "stream",
     "text": [
      "作者: zxcvxx (zxcvxx)  標題: [新聞] 英特爾2019-2029年製程路線圖，十年內從1  時間: Fri Dec 13 18:23:33 2019\n",
      "作者: H072 (~Under the heart)  標題: [請益] 台積電節賣點是什麼時候？  時間: Fri Dec 13 18:32:31 2019\n",
      "作者: afflic (afflic)  標題: Re: [心得] 台積電即將到達台股四分之一權重25%  時間: Fri Dec 13 18:33:23 2019\n",
      "作者: gongling (nikt)  標題: Re: [新聞] 貿易戰傳暫達協議 中國買500億美元農產品  時間: Fri Dec 13 19:01:43 2019\n",
      "作者: Sana (靜止)  標題: Re: [新聞] 大聯大收購文曄股權 一堂大學財務管理購  時間: Fri Dec 13 19:08:12 2019\n",
      "作者: Kobe5210 (旅程)  標題: [其他] 上市大盤加權股價指數(扣台積電)更新  時間: Fri Dec 13 19:09:44 2019\n",
      "作者: sogood145 (silverstorm)  標題: [請益] 交易症  時間: Fri Dec 13 19:25:15 2019\n",
      "作者: mike060606 (大麥克)  標題: Re: [其他] 大家手上的台積電成本價多少？  時間: Fri Dec 13 19:27:32 2019\n",
      "作者: TCB006 (存股合庫 榮耀台灣)  標題: Re: [新聞] 遠航無預警停飛震驚債權銀行 合庫即刻採  時間: Fri Dec 13 19:39:56 2019\n",
      "作者: IanLi (IanLi)  標題: [公告] 精華區導覽Q&A  時間: Sun Jan 25 23:18:20 2015\n",
      "作者: tim0259 (提摩)  標題: [閒聊] 2019/12/13 盤後閒聊  時間: Fri Dec 13 14:00:03 2019\n"
     ]
    }
   ],
   "source": [
    "url = 'https://www.ptt.cc/bbs/Stock/index.html'\n",
    "r = requests.get(url)\n",
    "\n",
    "soup = BeautifulSoup(r.text, \"html5lib\")\n",
    "\n",
    "for d in soup.find_all(class_=\"title\"):\n",
    "    #print(d.text.replace('\\n','').replace('\\t',''))\n",
    "    #print(d.find('a')['href'])\n",
    "    \n",
    "    try:\n",
    "        r = BeautifulSoup(requests.get('https://www.ptt.cc'+d.find('a')['href']).text, \"html5lib\")\n",
    "        d = r.find_all(class_='article-meta-value')\n",
    "        print('作者: ' + d[0].text,' 標題: '+ d[2].text,' 時間: '+ d[3].text )\n",
    "    except:\n",
    "        continue"
   ]
  },
  {
   "cell_type": "code",
   "execution_count": null,
   "metadata": {},
   "outputs": [],
   "source": []
  }
 ],
 "metadata": {
  "kernelspec": {
   "display_name": "Python 3",
   "language": "python",
   "name": "python3"
  },
  "language_info": {
   "codemirror_mode": {
    "name": "ipython",
    "version": 3
   },
   "file_extension": ".py",
   "mimetype": "text/x-python",
   "name": "python",
   "nbconvert_exporter": "python",
   "pygments_lexer": "ipython3",
   "version": "3.7.4"
  }
 },
 "nbformat": 4,
 "nbformat_minor": 2
}
